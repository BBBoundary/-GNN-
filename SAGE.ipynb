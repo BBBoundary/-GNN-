{
 "cells": [
  {
   "cell_type": "markdown",
   "metadata": {},
   "source": [
    "# 数据准备"
   ]
  },
  {
   "cell_type": "code",
   "execution_count": 1,
   "metadata": {},
   "outputs": [
    {
     "name": "stderr",
     "output_type": "stream",
     "text": [
      "d:\\SoftWare\\Anaconda3\\envs\\pytorch-cuda115\\lib\\site-packages\\tqdm\\auto.py:22: TqdmWarning: IProgress not found. Please update jupyter and ipywidgets. See https://ipywidgets.readthedocs.io/en/stable/user_install.html\n",
      "  from .autonotebook import tqdm as notebook_tqdm\n"
     ]
    },
    {
     "name": "stdout",
     "output_type": "stream",
     "text": [
      "111\n",
      "Data(x=[3700550, 20], edge_attr=[4300999], y=[3700550], train_mask=[857899], valid_mask=[183862], test_mask=[183840], adj_t=[3700550, 3700550, nnz=7994520])\n",
      "torch.Size([3700550, 20])\n",
      "torch.Size([3700550])\n"
     ]
    }
   ],
   "source": [
    "from utils import DGraphFin\n",
    "from utils.utils import prepare_folder\n",
    "from utils.evaluator import Evaluator\n",
    "\n",
    "import torch\n",
    "import torch.nn.functional as F\n",
    "import torch.nn as nn\n",
    "\n",
    "import torch_geometric.transforms as T\n",
    "\n",
    "import numpy as np\n",
    "from torch_geometric.data import Data\n",
    "import os\n",
    "\n",
    "#设置gpu设备\n",
    "# deviceId = 0\n",
    "# device = f'cuda:{deviceId}' if torch.cuda.is_available() else 'cpu'\n",
    "device = 'cpu'\n",
    "device = torch.device(device)\n",
    "\n",
    "path='./datasets/632d74d4e2843a53167ee9a1-momodel/' #数据保存路径\n",
    "save_dir='./results/' #模型保存路径\n",
    "dataset_name='DGraph'\n",
    "dataset = DGraphFin(root=path, name=dataset_name, transform=T.ToSparseTensor())\n",
    "\n",
    "nlabels = dataset.num_classes\n",
    "if dataset_name in ['DGraph']:\n",
    "    nlabels = 2    #本实验中仅需预测类0和类1\n",
    "\n",
    "data = dataset[0]\n",
    "data.adj_t = data.adj_t.to_symmetric() #将有向图转化为无向图\n",
    "\n",
    "\n",
    "if dataset_name in ['DGraph']:\n",
    "    x = data.x\n",
    "    x = (x - x.mean(0)) / x.std(0)\n",
    "    data.x = x\n",
    "if data.y.dim() == 2:\n",
    "    data.y = data.y.squeeze(1)\n",
    "\n",
    "split_idx = {'train': data.train_mask, 'valid': data.valid_mask, 'test': data.test_mask}  #划分训练集，验证集\n",
    "\n",
    "train_idx = split_idx['train']\n",
    "valid_idx = split_idx['valid']\n",
    "test_idx = split_idx['test']\n",
    "\n",
    "data.to(device)\n",
    "train_idx = split_idx['train'].to(device)\n",
    "\n",
    "result_dir = prepare_folder(dataset_name,'mlp')\n",
    "\n",
    "print(data)\n",
    "print(data.x.shape)  #feature\n",
    "print(data.y.shape)  #label\n",
    "\n",
    "nfeats = data.x.shape[1]\n"
   ]
  },
  {
   "cell_type": "code",
   "execution_count": 2,
   "metadata": {},
   "outputs": [
    {
     "data": {
      "text/plain": [
       "torch_geometric.data.data.Data"
      ]
     },
     "execution_count": 2,
     "metadata": {},
     "output_type": "execute_result"
    }
   ],
   "source": [
    "type(data)"
   ]
  },
  {
   "cell_type": "markdown",
   "metadata": {},
   "source": [
    "# 模型结构定义"
   ]
  },
  {
   "cell_type": "code",
   "execution_count": 3,
   "metadata": {},
   "outputs": [],
   "source": [
    "from typing import Union\n",
    "\n",
    "from torch import Tensor\n",
    "from torch_sparse import SparseTensor\n",
    "import torch\n",
    "import torch.nn.functional as F\n",
    "from torch_geometric.nn import SAGEConv\n",
    "\n",
    "class SAGE(torch.nn.Module):\n",
    "    def __init__(self\n",
    "                 , in_channels\n",
    "                 , hidden_channels\n",
    "                 , out_channels\n",
    "                 , num_layers\n",
    "                 , dropout\n",
    "                 , batchnorm=True):\n",
    "        super(SAGE, self).__init__()\n",
    "\n",
    "        self.convs = torch.nn.ModuleList()\n",
    "        self.convs.append(SAGEConv(in_channels, hidden_channels))\n",
    "        self.bns = torch.nn.ModuleList()\n",
    "        self.batchnorm = batchnorm\n",
    "        if self.batchnorm:\n",
    "            self.bns.append(torch.nn.BatchNorm1d(hidden_channels))\n",
    "        for _ in range(num_layers - 2):\n",
    "            self.convs.append(SAGEConv(hidden_channels, hidden_channels))\n",
    "            if self.batchnorm:\n",
    "                self.bns.append(torch.nn.BatchNorm1d(hidden_channels))\n",
    "        self.convs.append(SAGEConv(hidden_channels, out_channels))\n",
    "\n",
    "        self.dropout = dropout\n",
    "\n",
    "    def reset_parameters(self):\n",
    "        for conv in self.convs:\n",
    "            conv.reset_parameters()\n",
    "        if self.batchnorm:\n",
    "            for bn in self.bns:\n",
    "                bn.reset_parameters()\n",
    "\n",
    "    def forward(self, x, edge_index: Union[Tensor, SparseTensor]):\n",
    "        for i, conv in enumerate(self.convs[:-1]):\n",
    "            x = conv(x, edge_index)\n",
    "            if self.batchnorm: \n",
    "                x = self.bns[i](x)\n",
    "            x = F.relu(x)\n",
    "            x = F.dropout(x, p=self.dropout, training=self.training)\n",
    "        x = self.convs[-1](x, edge_index)\n",
    "        return x.log_softmax(dim=-1)\n",
    "    \n"
   ]
  },
  {
   "cell_type": "code",
   "execution_count": 4,
   "metadata": {},
   "outputs": [],
   "source": [
    "sage_parameters = {'lr':0.01\n",
    "    , 'num_layers':2\n",
    "    , 'hidden_channels':128\n",
    "    , 'dropout':0\n",
    "    , 'batchnorm': False\n",
    "    , 'weight_decay':5e-7\n",
    "}"
   ]
  },
  {
   "cell_type": "code",
   "execution_count": 5,
   "metadata": {},
   "outputs": [],
   "source": [
    "para_dict = sage_parameters\n",
    "model_para = sage_parameters.copy()\n",
    "model_para.pop('lr')\n",
    "model_para.pop('weight_decay')        \n",
    "model = SAGE(in_channels = data.x.size(-1), out_channels = nlabels, **model_para).to(device)\n",
    "#AUC\n",
    "eval_metric = 'auc'\n",
    "evaluator = Evaluator(eval_metric)\n"
   ]
  },
  {
   "cell_type": "markdown",
   "metadata": {},
   "source": [
    "# 训练"
   ]
  },
  {
   "cell_type": "code",
   "execution_count": 11,
   "metadata": {},
   "outputs": [],
   "source": [
    "addition_para = {\n",
    "    'epoch':500\n",
    "    , 'runs':10\n",
    "    , 'log_steps':10\n",
    "}\n",
    "para_dict.update(addition_para)"
   ]
  },
  {
   "cell_type": "code",
   "execution_count": 7,
   "metadata": {},
   "outputs": [],
   "source": [
    "class Logger(object):\n",
    "    def __init__(self, runs, info=None):\n",
    "        self.info = info\n",
    "        self.results = [[] for _ in range(runs)]\n",
    "\n",
    "    def add_result(self, run, result):\n",
    "        assert len(result) == 2\n",
    "        assert run >= 0 and run < len(self.results)\n",
    "        self.results[run].append(result)\n",
    "\n",
    "    def print_statistics(self, run=None):\n",
    "        if run is not None:\n",
    "            result = 100 * torch.tensor(self.results[run])\n",
    "            argmax = result[:, 1].argmax().item()\n",
    "            print(f'Run {run + 1:02d}:')\n",
    "            print(f'Highest Train: {result[:, 0].max():.2f}')\n",
    "            print(f'Highest Valid: {result[:, 1].max():.2f}')\n",
    "            print(f'  Final Train: {result[argmax, 0]:.2f}')\n",
    "        else:\n",
    "            result = 100 * torch.tensor(self.results)\n",
    "\n",
    "            best_results = []\n",
    "            for r in result:\n",
    "                train1 = r[:, 0].max().item()\n",
    "                valid = r[:, 1].max().item()\n",
    "                train2 = r[r[:, 1].argmax(), 0].item()\n",
    "                best_results.append((train1, valid, train2))\n",
    "\n",
    "            best_result = torch.tensor(best_results)\n",
    "\n",
    "            print(f'All runs:')\n",
    "            r = best_result[:, 0]\n",
    "            highest_train, highest_train_std = r.mean().item(), r.std().item()\n",
    "            print(f'Highest Train: {r.mean():.4f} ± {r.std():.4f}')\n",
    "            r = best_result[:, 1]\n",
    "            highest_valid, highest_valid_std = r.mean().item(), r.std().item()\n",
    "            print(f'Highest Valid: {r.mean():.4f} ± {r.std():.4f}')\n",
    "            r = best_result[:, 2]\n",
    "            final_train, final_train_std = r.mean().item(), r.std().item()\n",
    "            print(f'  Final Train: {r.mean():.4f} ± {r.std():.4f}')\n",
    "            \n",
    "            return {'train': round(final_train, 4)\n",
    "                    , 'train_std': round(final_train_std, 4)\n",
    "                    , 'valid': round(highest_valid, 4)\n",
    "                    , 'valid_std': round(highest_valid_std, 4)\n",
    "                   }\n"
   ]
  },
  {
   "cell_type": "code",
   "execution_count": 8,
   "metadata": {},
   "outputs": [],
   "source": [
    "logger = Logger(runs= 10)"
   ]
  },
  {
   "cell_type": "code",
   "execution_count": 9,
   "metadata": {},
   "outputs": [],
   "source": [
    "def train(model, data, train_idx, optimizer, no_conv=False):\n",
    "    # data.y is labels of shape (N, ) \n",
    "    model.train()\n",
    "\n",
    "    optimizer.zero_grad()\n",
    "    if no_conv:\n",
    "        out = model(data.x[train_idx])\n",
    "    else:\n",
    "        out = model(data.x, data.adj_t)[train_idx]\n",
    "    loss = F.nll_loss(out, data.y[train_idx])\n",
    "    loss.backward()\n",
    "    optimizer.step()\n",
    "\n",
    "    return loss.item()\n",
    "\n",
    "\n",
    "@torch.no_grad()\n",
    "def test(model, data, split_idx, evaluator, no_conv=False):\n",
    "    # data.y is labels of shape (N, )\n",
    "    model.eval()\n",
    "    \n",
    "    if no_conv:\n",
    "        out = model(data.x)\n",
    "    else:\n",
    "        out = model(data.x, data.adj_t)\n",
    "        \n",
    "    y_pred = out.exp()  # (N,num_classes)\n",
    "    \n",
    "    losses, eval_results = dict(), dict()\n",
    "    for key in ['train', 'valid']:\n",
    "        node_id = split_idx[key]\n",
    "        losses[key] = F.nll_loss(out[node_id], data.y[node_id]).item()\n",
    "        eval_results[key] = evaluator.eval(data.y[node_id], y_pred[node_id])[eval_metric]\n",
    "            \n",
    "    return eval_results, losses, y_pred"
   ]
  },
  {
   "cell_type": "code",
   "execution_count": 13,
   "metadata": {},
   "outputs": [
    {
     "name": "stdout",
     "output_type": "stream",
     "text": [
      "5762\n",
      "Run: 01, Epoch: 10, Loss: 0.1247, Train: 63.101%, Valid: 62.923% \n",
      "Run: 01, Epoch: 20, Loss: 0.1035, Train: 68.208%, Valid: 67.565% \n",
      "Run: 01, Epoch: 30, Loss: 0.0722, Train: 70.089%, Valid: 69.125% \n",
      "Run: 01, Epoch: 40, Loss: 0.0670, Train: 68.716%, Valid: 67.807% \n",
      "Run: 01, Epoch: 50, Loss: 0.0651, Train: 70.539%, Valid: 69.699% \n",
      "Run: 01, Epoch: 60, Loss: 0.0640, Train: 72.294%, Valid: 71.046% \n",
      "Run: 01, Epoch: 70, Loss: 0.0635, Train: 73.265%, Valid: 71.989% \n",
      "Run: 01, Epoch: 80, Loss: 0.0632, Train: 73.885%, Valid: 72.559% \n",
      "Run: 01, Epoch: 90, Loss: 0.0630, Train: 74.419%, Valid: 73.127% \n",
      "Run: 01, Epoch: 100, Loss: 0.0628, Train: 74.820%, Valid: 73.493% \n",
      "Run: 01, Epoch: 110, Loss: 0.0626, Train: 75.149%, Valid: 73.790% \n",
      "Run: 01, Epoch: 120, Loss: 0.0624, Train: 75.436%, Valid: 74.046% \n",
      "Run: 01, Epoch: 130, Loss: 0.0623, Train: 75.691%, Valid: 74.293% \n",
      "Run: 01, Epoch: 140, Loss: 0.0622, Train: 75.913%, Valid: 74.503% \n",
      "Run: 01, Epoch: 150, Loss: 0.0621, Train: 76.109%, Valid: 74.687% \n",
      "Run: 01, Epoch: 160, Loss: 0.0620, Train: 76.282%, Valid: 74.844% \n",
      "Run: 01, Epoch: 170, Loss: 0.0620, Train: 76.437%, Valid: 74.978% \n",
      "Run: 01, Epoch: 180, Loss: 0.0619, Train: 76.572%, Valid: 75.092% \n",
      "Run: 01, Epoch: 190, Loss: 0.0618, Train: 76.696%, Valid: 75.195% \n",
      "Run: 01, Epoch: 200, Loss: 0.0618, Train: 76.811%, Valid: 75.290% \n",
      "Run: 01, Epoch: 210, Loss: 0.0617, Train: 76.916%, Valid: 75.378% \n",
      "Run: 01, Epoch: 220, Loss: 0.0617, Train: 77.014%, Valid: 75.458% \n",
      "Run: 01, Epoch: 230, Loss: 0.0616, Train: 77.106%, Valid: 75.532% \n",
      "Run: 01, Epoch: 240, Loss: 0.0616, Train: 77.195%, Valid: 75.602% \n",
      "Run: 01, Epoch: 250, Loss: 0.0615, Train: 77.279%, Valid: 75.663% \n",
      "Run: 01, Epoch: 260, Loss: 0.0615, Train: 77.360%, Valid: 75.723% \n",
      "Run: 01, Epoch: 270, Loss: 0.0615, Train: 77.437%, Valid: 75.780% \n",
      "Run: 01, Epoch: 280, Loss: 0.0614, Train: 77.513%, Valid: 75.835% \n",
      "Run: 01, Epoch: 290, Loss: 0.0614, Train: 77.585%, Valid: 75.889% \n",
      "Run: 01, Epoch: 300, Loss: 0.0613, Train: 77.654%, Valid: 75.939% \n",
      "Run: 01, Epoch: 310, Loss: 0.0613, Train: 77.717%, Valid: 75.984% \n",
      "Run: 01, Epoch: 320, Loss: 0.0613, Train: 77.779%, Valid: 76.029% \n",
      "Run: 01, Epoch: 330, Loss: 0.0612, Train: 77.839%, Valid: 76.070% \n",
      "Run: 01, Epoch: 340, Loss: 0.0612, Train: 77.895%, Valid: 76.109% \n",
      "Run: 01, Epoch: 350, Loss: 0.0612, Train: 77.947%, Valid: 76.146% \n",
      "Run: 01, Epoch: 360, Loss: 0.0612, Train: 77.998%, Valid: 76.182% \n",
      "Run: 01, Epoch: 370, Loss: 0.0611, Train: 78.044%, Valid: 76.216% \n",
      "Run: 01, Epoch: 380, Loss: 0.0611, Train: 78.089%, Valid: 76.248% \n",
      "Run: 01, Epoch: 390, Loss: 0.0611, Train: 78.132%, Valid: 76.277% \n",
      "Run: 01, Epoch: 400, Loss: 0.0611, Train: 78.173%, Valid: 76.303% \n",
      "Run: 01, Epoch: 410, Loss: 0.0610, Train: 78.212%, Valid: 76.328% \n",
      "Run: 01, Epoch: 420, Loss: 0.0610, Train: 78.251%, Valid: 76.352% \n",
      "Run: 01, Epoch: 430, Loss: 0.0610, Train: 78.290%, Valid: 76.374% \n",
      "Run: 01, Epoch: 440, Loss: 0.0610, Train: 78.328%, Valid: 76.395% \n",
      "Run: 01, Epoch: 450, Loss: 0.0610, Train: 78.366%, Valid: 76.416% \n",
      "Run: 01, Epoch: 460, Loss: 0.0609, Train: 78.403%, Valid: 76.438% \n",
      "Run: 01, Epoch: 470, Loss: 0.0609, Train: 78.440%, Valid: 76.460% \n",
      "Run: 01, Epoch: 480, Loss: 0.0609, Train: 78.476%, Valid: 76.481% \n",
      "Run: 01, Epoch: 490, Loss: 0.0609, Train: 78.512%, Valid: 76.500% \n",
      "Run: 01, Epoch: 500, Loss: 0.0609, Train: 78.547%, Valid: 76.521% \n",
      "Run 01:\n",
      "Highest Train: 78.55\n",
      "Highest Valid: 76.52\n",
      "  Final Train: 78.55\n",
      "5762\n",
      "Run: 02, Epoch: 10, Loss: 0.1221, Train: 62.717%, Valid: 62.989% \n",
      "Run: 02, Epoch: 20, Loss: 0.0997, Train: 67.261%, Valid: 67.162% \n",
      "Run: 02, Epoch: 30, Loss: 0.0700, Train: 69.003%, Valid: 68.460% \n",
      "Run: 02, Epoch: 40, Loss: 0.0671, Train: 68.281%, Valid: 67.555% \n",
      "Run: 02, Epoch: 50, Loss: 0.0651, Train: 71.003%, Valid: 70.196% \n",
      "Run: 02, Epoch: 60, Loss: 0.0641, Train: 72.572%, Valid: 71.310% \n",
      "Run: 02, Epoch: 70, Loss: 0.0635, Train: 73.437%, Valid: 72.200% \n",
      "Run: 02, Epoch: 80, Loss: 0.0632, Train: 74.073%, Valid: 72.768% \n",
      "Run: 02, Epoch: 90, Loss: 0.0629, Train: 74.646%, Valid: 73.353% \n",
      "Run: 02, Epoch: 100, Loss: 0.0627, Train: 75.090%, Valid: 73.776% \n",
      "Run: 02, Epoch: 110, Loss: 0.0625, Train: 75.472%, Valid: 74.153% \n",
      "Run: 02, Epoch: 120, Loss: 0.0623, Train: 75.804%, Valid: 74.466% \n",
      "Run: 02, Epoch: 130, Loss: 0.0622, Train: 76.085%, Valid: 74.711% \n",
      "Run: 02, Epoch: 140, Loss: 0.0621, Train: 76.319%, Valid: 74.918% \n",
      "Run: 02, Epoch: 150, Loss: 0.0620, Train: 76.514%, Valid: 75.085% \n",
      "Run: 02, Epoch: 160, Loss: 0.0619, Train: 76.677%, Valid: 75.216% \n",
      "Run: 02, Epoch: 170, Loss: 0.0618, Train: 76.818%, Valid: 75.322% \n",
      "Run: 02, Epoch: 180, Loss: 0.0617, Train: 76.940%, Valid: 75.410% \n",
      "Run: 02, Epoch: 190, Loss: 0.0617, Train: 77.050%, Valid: 75.495% \n",
      "Run: 02, Epoch: 200, Loss: 0.0616, Train: 77.150%, Valid: 75.578% \n",
      "Run: 02, Epoch: 210, Loss: 0.0616, Train: 77.244%, Valid: 75.649% \n",
      "Run: 02, Epoch: 220, Loss: 0.0615, Train: 77.331%, Valid: 75.714% \n",
      "Run: 02, Epoch: 230, Loss: 0.0615, Train: 77.414%, Valid: 75.778% \n",
      "Run: 02, Epoch: 240, Loss: 0.0614, Train: 77.496%, Valid: 75.838% \n",
      "Run: 02, Epoch: 250, Loss: 0.0614, Train: 77.572%, Valid: 75.891% \n",
      "Run: 02, Epoch: 260, Loss: 0.0614, Train: 77.640%, Valid: 75.938% \n",
      "Run: 02, Epoch: 270, Loss: 0.0613, Train: 77.704%, Valid: 75.985% \n",
      "Run: 02, Epoch: 280, Loss: 0.0613, Train: 77.764%, Valid: 76.029% \n",
      "Run: 02, Epoch: 290, Loss: 0.0613, Train: 77.823%, Valid: 76.070% \n",
      "Run: 02, Epoch: 300, Loss: 0.0612, Train: 77.877%, Valid: 76.105% \n",
      "Run: 02, Epoch: 310, Loss: 0.0612, Train: 77.931%, Valid: 76.137% \n",
      "Run: 02, Epoch: 320, Loss: 0.0612, Train: 77.980%, Valid: 76.171% \n",
      "Run: 02, Epoch: 330, Loss: 0.0612, Train: 78.029%, Valid: 76.209% \n",
      "Run: 02, Epoch: 340, Loss: 0.0611, Train: 78.077%, Valid: 76.244% \n",
      "Run: 02, Epoch: 350, Loss: 0.0611, Train: 78.125%, Valid: 76.279% \n",
      "Run: 02, Epoch: 360, Loss: 0.0611, Train: 78.172%, Valid: 76.306% \n",
      "Run: 02, Epoch: 370, Loss: 0.0610, Train: 78.217%, Valid: 76.333% \n",
      "Run: 02, Epoch: 380, Loss: 0.0610, Train: 78.261%, Valid: 76.360% \n",
      "Run: 02, Epoch: 390, Loss: 0.0610, Train: 78.305%, Valid: 76.389% \n",
      "Run: 02, Epoch: 400, Loss: 0.0610, Train: 78.348%, Valid: 76.418% \n",
      "Run: 02, Epoch: 410, Loss: 0.0609, Train: 78.391%, Valid: 76.442% \n",
      "Run: 02, Epoch: 420, Loss: 0.0609, Train: 78.434%, Valid: 76.469% \n",
      "Run: 02, Epoch: 430, Loss: 0.0609, Train: 78.476%, Valid: 76.495% \n",
      "Run: 02, Epoch: 440, Loss: 0.0609, Train: 78.518%, Valid: 76.517% \n",
      "Run: 02, Epoch: 450, Loss: 0.0608, Train: 78.558%, Valid: 76.538% \n",
      "Run: 02, Epoch: 460, Loss: 0.0608, Train: 78.599%, Valid: 76.559% \n",
      "Run: 02, Epoch: 470, Loss: 0.0608, Train: 78.641%, Valid: 76.583% \n",
      "Run: 02, Epoch: 480, Loss: 0.0608, Train: 78.684%, Valid: 76.607% \n",
      "Run: 02, Epoch: 490, Loss: 0.0607, Train: 78.729%, Valid: 76.630% \n",
      "Run: 02, Epoch: 500, Loss: 0.0607, Train: 78.773%, Valid: 76.654% \n",
      "Run 02:\n",
      "Highest Train: 78.77\n",
      "Highest Valid: 76.65\n",
      "  Final Train: 78.77\n",
      "5762\n",
      "Run: 03, Epoch: 10, Loss: 0.1209, Train: 65.329%, Valid: 65.054% \n",
      "Run: 03, Epoch: 20, Loss: 0.1054, Train: 69.233%, Valid: 68.466% \n",
      "Run: 03, Epoch: 30, Loss: 0.0731, Train: 70.409%, Valid: 69.381% \n",
      "Run: 03, Epoch: 40, Loss: 0.0673, Train: 69.109%, Valid: 68.424% \n",
      "Run: 03, Epoch: 50, Loss: 0.0650, Train: 70.382%, Valid: 69.332% \n",
      "Run: 03, Epoch: 60, Loss: 0.0642, Train: 72.119%, Valid: 71.016% \n",
      "Run: 03, Epoch: 70, Loss: 0.0635, Train: 73.460%, Valid: 72.140% \n",
      "Run: 03, Epoch: 80, Loss: 0.0631, Train: 74.190%, Valid: 72.900% \n",
      "Run: 03, Epoch: 90, Loss: 0.0629, Train: 74.732%, Valid: 73.375% \n",
      "Run: 03, Epoch: 100, Loss: 0.0626, Train: 75.156%, Valid: 73.728% \n",
      "Run: 03, Epoch: 110, Loss: 0.0625, Train: 75.460%, Valid: 73.972% \n",
      "Run: 03, Epoch: 120, Loss: 0.0623, Train: 75.717%, Valid: 74.200% \n"
     ]
    },
    {
     "ename": "KeyboardInterrupt",
     "evalue": "",
     "output_type": "error",
     "traceback": [
      "\u001b[1;31m---------------------------------------------------------------------------\u001b[0m",
      "\u001b[1;31mKeyboardInterrupt\u001b[0m                         Traceback (most recent call last)",
      "\u001b[1;32md:\\MasterDegree\\course\\人工智能\\work2\\SAGE.ipynb Cell 13\u001b[0m in \u001b[0;36m<cell line: 2>\u001b[1;34m()\u001b[0m\n\u001b[0;32m     <a href='vscode-notebook-cell:/d%3A/MasterDegree/course/%E4%BA%BA%E5%B7%A5%E6%99%BA%E8%83%BD/work2/SAGE.ipynb#X15sZmlsZQ%3D%3D?line=11'>12</a>\u001b[0m best_out \u001b[39m=\u001b[39m \u001b[39mNone\u001b[39;00m\n\u001b[0;32m     <a href='vscode-notebook-cell:/d%3A/MasterDegree/course/%E4%BA%BA%E5%B7%A5%E6%99%BA%E8%83%BD/work2/SAGE.ipynb#X15sZmlsZQ%3D%3D?line=13'>14</a>\u001b[0m \u001b[39mfor\u001b[39;00m epoch \u001b[39min\u001b[39;00m \u001b[39mrange\u001b[39m(\u001b[39m1\u001b[39m, para_dict[\u001b[39m'\u001b[39m\u001b[39mepoch\u001b[39m\u001b[39m'\u001b[39m]\u001b[39m+\u001b[39m\u001b[39m1\u001b[39m):\n\u001b[1;32m---> <a href='vscode-notebook-cell:/d%3A/MasterDegree/course/%E4%BA%BA%E5%B7%A5%E6%99%BA%E8%83%BD/work2/SAGE.ipynb#X15sZmlsZQ%3D%3D?line=14'>15</a>\u001b[0m     loss \u001b[39m=\u001b[39m train(model, data, train_idx, optimizer)\n\u001b[0;32m     <a href='vscode-notebook-cell:/d%3A/MasterDegree/course/%E4%BA%BA%E5%B7%A5%E6%99%BA%E8%83%BD/work2/SAGE.ipynb#X15sZmlsZQ%3D%3D?line=15'>16</a>\u001b[0m     eval_results, losses, out \u001b[39m=\u001b[39m test(model, data, split_idx, evaluator)\n\u001b[0;32m     <a href='vscode-notebook-cell:/d%3A/MasterDegree/course/%E4%BA%BA%E5%B7%A5%E6%99%BA%E8%83%BD/work2/SAGE.ipynb#X15sZmlsZQ%3D%3D?line=16'>17</a>\u001b[0m     train_eval, valid_eval \u001b[39m=\u001b[39m eval_results[\u001b[39m'\u001b[39m\u001b[39mtrain\u001b[39m\u001b[39m'\u001b[39m], eval_results[\u001b[39m'\u001b[39m\u001b[39mvalid\u001b[39m\u001b[39m'\u001b[39m]\n",
      "\u001b[1;32md:\\MasterDegree\\course\\人工智能\\work2\\SAGE.ipynb Cell 13\u001b[0m in \u001b[0;36mtrain\u001b[1;34m(model, data, train_idx, optimizer, no_conv)\u001b[0m\n\u001b[0;32m      <a href='vscode-notebook-cell:/d%3A/MasterDegree/course/%E4%BA%BA%E5%B7%A5%E6%99%BA%E8%83%BD/work2/SAGE.ipynb#X15sZmlsZQ%3D%3D?line=8'>9</a>\u001b[0m     out \u001b[39m=\u001b[39m model(data\u001b[39m.\u001b[39mx, data\u001b[39m.\u001b[39madj_t)[train_idx]\n\u001b[0;32m     <a href='vscode-notebook-cell:/d%3A/MasterDegree/course/%E4%BA%BA%E5%B7%A5%E6%99%BA%E8%83%BD/work2/SAGE.ipynb#X15sZmlsZQ%3D%3D?line=9'>10</a>\u001b[0m loss \u001b[39m=\u001b[39m F\u001b[39m.\u001b[39mnll_loss(out, data\u001b[39m.\u001b[39my[train_idx])\n\u001b[1;32m---> <a href='vscode-notebook-cell:/d%3A/MasterDegree/course/%E4%BA%BA%E5%B7%A5%E6%99%BA%E8%83%BD/work2/SAGE.ipynb#X15sZmlsZQ%3D%3D?line=10'>11</a>\u001b[0m loss\u001b[39m.\u001b[39;49mbackward()\n\u001b[0;32m     <a href='vscode-notebook-cell:/d%3A/MasterDegree/course/%E4%BA%BA%E5%B7%A5%E6%99%BA%E8%83%BD/work2/SAGE.ipynb#X15sZmlsZQ%3D%3D?line=11'>12</a>\u001b[0m optimizer\u001b[39m.\u001b[39mstep()\n\u001b[0;32m     <a href='vscode-notebook-cell:/d%3A/MasterDegree/course/%E4%BA%BA%E5%B7%A5%E6%99%BA%E8%83%BD/work2/SAGE.ipynb#X15sZmlsZQ%3D%3D?line=13'>14</a>\u001b[0m \u001b[39mreturn\u001b[39;00m loss\u001b[39m.\u001b[39mitem()\n",
      "File \u001b[1;32md:\\SoftWare\\Anaconda3\\envs\\pytorch-cuda115\\lib\\site-packages\\torch\\_tensor.py:396\u001b[0m, in \u001b[0;36mTensor.backward\u001b[1;34m(self, gradient, retain_graph, create_graph, inputs)\u001b[0m\n\u001b[0;32m    387\u001b[0m \u001b[39mif\u001b[39;00m has_torch_function_unary(\u001b[39mself\u001b[39m):\n\u001b[0;32m    388\u001b[0m     \u001b[39mreturn\u001b[39;00m handle_torch_function(\n\u001b[0;32m    389\u001b[0m         Tensor\u001b[39m.\u001b[39mbackward,\n\u001b[0;32m    390\u001b[0m         (\u001b[39mself\u001b[39m,),\n\u001b[1;32m   (...)\u001b[0m\n\u001b[0;32m    394\u001b[0m         create_graph\u001b[39m=\u001b[39mcreate_graph,\n\u001b[0;32m    395\u001b[0m         inputs\u001b[39m=\u001b[39minputs)\n\u001b[1;32m--> 396\u001b[0m torch\u001b[39m.\u001b[39;49mautograd\u001b[39m.\u001b[39;49mbackward(\u001b[39mself\u001b[39;49m, gradient, retain_graph, create_graph, inputs\u001b[39m=\u001b[39;49minputs)\n",
      "File \u001b[1;32md:\\SoftWare\\Anaconda3\\envs\\pytorch-cuda115\\lib\\site-packages\\torch\\autograd\\__init__.py:173\u001b[0m, in \u001b[0;36mbackward\u001b[1;34m(tensors, grad_tensors, retain_graph, create_graph, grad_variables, inputs)\u001b[0m\n\u001b[0;32m    168\u001b[0m     retain_graph \u001b[39m=\u001b[39m create_graph\n\u001b[0;32m    170\u001b[0m \u001b[39m# The reason we repeat same the comment below is that\u001b[39;00m\n\u001b[0;32m    171\u001b[0m \u001b[39m# some Python versions print out the first line of a multi-line function\u001b[39;00m\n\u001b[0;32m    172\u001b[0m \u001b[39m# calls in the traceback and some print out the last line\u001b[39;00m\n\u001b[1;32m--> 173\u001b[0m Variable\u001b[39m.\u001b[39;49m_execution_engine\u001b[39m.\u001b[39;49mrun_backward(  \u001b[39m# Calls into the C++ engine to run the backward pass\u001b[39;49;00m\n\u001b[0;32m    174\u001b[0m     tensors, grad_tensors_, retain_graph, create_graph, inputs,\n\u001b[0;32m    175\u001b[0m     allow_unreachable\u001b[39m=\u001b[39;49m\u001b[39mTrue\u001b[39;49;00m, accumulate_grad\u001b[39m=\u001b[39;49m\u001b[39mTrue\u001b[39;49;00m)\n",
      "\u001b[1;31mKeyboardInterrupt\u001b[0m: "
     ]
    }
   ],
   "source": [
    "best_model_dict = None\n",
    "for run in range(para_dict['runs']):\n",
    "\n",
    "    import gc\n",
    "    gc.collect()\n",
    "    print(sum(p.numel() for p in model.parameters()))\n",
    "\n",
    "    model.reset_parameters()\n",
    "    optimizer = torch.optim.Adam(model.parameters(), lr=para_dict['lr'], weight_decay=para_dict['weight_decay'])\n",
    "    best_valid = 0\n",
    "    min_valid_loss = 1e8\n",
    "    best_out = None\n",
    "\n",
    "    for epoch in range(1, para_dict['epoch']+1):\n",
    "        loss = train(model, data, train_idx, optimizer)\n",
    "        eval_results, losses, out = test(model, data, split_idx, evaluator)\n",
    "        train_eval, valid_eval = eval_results['train'], eval_results['valid']\n",
    "        train_loss, valid_loss = losses['train'], losses['valid']\n",
    "\n",
    "#                 if valid_eval > best_valid:\n",
    "#                     best_valid = valid_result\n",
    "#                     best_out = out.cpu().exp()\n",
    "        if valid_loss < min_valid_loss:\n",
    "            min_valid_loss = valid_loss\n",
    "            best_out = out.cpu()\n",
    "            best_model_dict =  model.state_dict()\n",
    "        if epoch % para_dict['log_steps'] == 0:\n",
    "            print(f'Run: {run + 1:02d}, '\n",
    "                        f'Epoch: {epoch:02d}, '\n",
    "                        f'Loss: {loss:.4f}, '\n",
    "                        f'Train: {100 * train_eval:.3f}%, '\n",
    "                        f'Valid: {100 * valid_eval:.3f}% ')\n",
    "        logger.add_result(run, [train_eval, valid_eval])\n",
    "    \n",
    "    logger.print_statistics(run)\n",
    "    torch.save(best_model_dict,save_dir+f'epoch500-SAGE{run}-{100 * valid_eval:.3f}.pt',_use_new_zipfile_serialization=False)"
   ]
  },
  {
   "cell_type": "code",
   "execution_count": null,
   "metadata": {},
   "outputs": [],
   "source": [
    "final_results = logger.print_statistics()\n",
    "print('final_results:', final_results)\n",
    "para_dict.update(final_results)"
   ]
  },
  {
   "cell_type": "code",
   "execution_count": 57,
   "metadata": {},
   "outputs": [
    {
     "name": "stdout",
     "output_type": "stream",
     "text": [
      "Run 01:\n",
      "Highest Train: 63.97\n",
      "Highest Valid: 63.89\n",
      "  Final Train: 63.97\n"
     ]
    }
   ],
   "source": [
    "#logger.print_statistics(0)"
   ]
  },
  {
   "cell_type": "code",
   "execution_count": 48,
   "metadata": {},
   "outputs": [
    {
     "ename": "ValueError",
     "evalue": "expected sequence of length 10 at dim 1 (got 1)",
     "output_type": "error",
     "traceback": [
      "\u001b[1;31m---------------------------------------------------------------------------\u001b[0m",
      "\u001b[1;31mValueError\u001b[0m                                Traceback (most recent call last)",
      "\u001b[1;32md:\\MasterDegree\\course\\人工智能\\work2\\SAGE.ipynb Cell 16\u001b[0m in \u001b[0;36m<cell line: 1>\u001b[1;34m()\u001b[0m\n\u001b[1;32m----> <a href='vscode-notebook-cell:/d%3A/MasterDegree/course/%E4%BA%BA%E5%B7%A5%E6%99%BA%E8%83%BD/work2/SAGE.ipynb#X21sZmlsZQ%3D%3D?line=0'>1</a>\u001b[0m torch\u001b[39m.\u001b[39;49mtensor(logger\u001b[39m.\u001b[39;49mresults)\n",
      "\u001b[1;31mValueError\u001b[0m: expected sequence of length 10 at dim 1 (got 1)"
     ]
    }
   ],
   "source": [
    "#torch.tensor(logger.results)"
   ]
  },
  {
   "cell_type": "code",
   "execution_count": 53,
   "metadata": {},
   "outputs": [],
   "source": [
    "#result = 100* torch.tensor(logger.results[:2])"
   ]
  },
  {
   "cell_type": "code",
   "execution_count": 54,
   "metadata": {},
   "outputs": [
    {
     "name": "stdout",
     "output_type": "stream",
     "text": [
      "All runs:\n",
      "Highest Train: 64.3354 ± 0.5210\n",
      "Highest Valid: 64.1541 ± 0.3767\n",
      "  Final Train: 64.3354 ± 0.5210\n",
      "{'train': 64.3354, 'train_std': 0.521, 'valid': 64.1541, 'valid_std': 0.3767}\n"
     ]
    }
   ],
   "source": [
    "# best_results = []\n",
    "# for r in result:\n",
    "#     train1 = r[:, 0].max().item()\n",
    "#     valid = r[:, 1].max().item()\n",
    "#     train2 = r[r[:, 1].argmax(), 0].item()\n",
    "#     best_results.append((train1, valid, train2))\n",
    "\n",
    "# best_result = torch.tensor(best_results)\n",
    "\n",
    "# print(f'All runs:')\n",
    "# r = best_result[:, 0]\n",
    "# highest_train, highest_train_std = r.mean().item(), r.std().item()\n",
    "# print(f'Highest Train: {r.mean():.4f} ± {r.std():.4f}')\n",
    "# r = best_result[:, 1]\n",
    "# highest_valid, highest_valid_std = r.mean().item(), r.std().item()\n",
    "# print(f'Highest Valid: {r.mean():.4f} ± {r.std():.4f}')\n",
    "# r = best_result[:, 2]\n",
    "# final_train, final_train_std = r.mean().item(), r.std().item()\n",
    "# print(f'  Final Train: {r.mean():.4f} ± {r.std():.4f}')\n",
    "\n",
    "# print( {'train': round(final_train, 4)\n",
    "#         , 'train_std': round(final_train_std, 4)\n",
    "#         , 'valid': round(highest_valid, 4)\n",
    "#         , 'valid_std': round(highest_valid_std, 4)\n",
    "#         })"
   ]
  },
  {
   "cell_type": "code",
   "execution_count": 11,
   "metadata": {},
   "outputs": [],
   "source": [
    "## 生成 main.py 时请勾选此 cell\n",
    "from utils import DGraphFin\n",
    "from utils.evaluator import Evaluator\n",
    "import torch\n",
    "import torch.nn.functional as F\n",
    "import torch.nn as nn\n",
    "import torch_geometric.transforms as T\n",
    "from torch_geometric.data import Data\n",
    "import numpy as np\n",
    "import os\n",
    "\n",
    "nlabels = 2    #本实验中仅需预测类0和类1\n",
    "\n",
    "sage_parameters = {\n",
    "    'num_layers':2\n",
    "    , 'hidden_channels':128\n",
    "    , 'dropout':0\n",
    "    , 'batchnorm': False\n",
    "}\n",
    "from typing import Union\n",
    "\n",
    "from torch import Tensor\n",
    "from torch_sparse import SparseTensor\n",
    "import torch\n",
    "import torch.nn.functional as F\n",
    "from torch_geometric.nn import SAGEConv\n",
    "\n",
    "class SAGE(torch.nn.Module):\n",
    "    def __init__(self\n",
    "                 , in_channels\n",
    "                 , hidden_channels\n",
    "                 , out_channels\n",
    "                 , num_layers\n",
    "                 , dropout\n",
    "                 , batchnorm=True):\n",
    "        super(SAGE, self).__init__()\n",
    "\n",
    "        self.convs = torch.nn.ModuleList()\n",
    "        self.convs.append(SAGEConv(in_channels, hidden_channels))\n",
    "        self.bns = torch.nn.ModuleList()\n",
    "        self.batchnorm = batchnorm\n",
    "        if self.batchnorm:\n",
    "            self.bns.append(torch.nn.BatchNorm1d(hidden_channels))\n",
    "        for _ in range(num_layers - 2):\n",
    "            self.convs.append(SAGEConv(hidden_channels, hidden_channels))\n",
    "            if self.batchnorm:\n",
    "                self.bns.append(torch.nn.BatchNorm1d(hidden_channels))\n",
    "        self.convs.append(SAGEConv(hidden_channels, out_channels))\n",
    "\n",
    "        self.dropout = dropout\n",
    "\n",
    "    def reset_parameters(self):\n",
    "        for conv in self.convs:\n",
    "            conv.reset_parameters()\n",
    "        if self.batchnorm:\n",
    "            for bn in self.bns:\n",
    "                bn.reset_parameters()\n",
    "\n",
    "    def forward(self, x, edge_index: Union[Tensor, SparseTensor]):\n",
    "        for i, conv in enumerate(self.convs[:-1]):\n",
    "            x = conv(x, edge_index)\n",
    "            if self.batchnorm: \n",
    "                x = self.bns[i](x)\n",
    "            x = F.relu(x)\n",
    "            x = F.dropout(x, p=self.dropout, training=self.training)\n",
    "        x = self.convs[-1](x, edge_index)\n",
    "        return x.log_softmax(dim=-1)\n",
    "    \n",
    "predict_model = None \n",
    "y_pred = None\n",
    "\n",
    "def predict(data,node_id):\n",
    "    \"\"\"\n",
    "    加载模型和模型预测\n",
    "    :param node_id: int, 需要进行预测节点的下标\n",
    "    :return: tensor, 类0以及类1的概率, torch.size[1,2]\n",
    "    \"\"\"\n",
    "    global predict_model\n",
    "    global y_pred\n",
    "    if predict_model == None:\n",
    "        predict_model = SAGE(in_channels = data.x.size(-1), out_channels = nlabels, **sage_parameters)\n",
    "        predict_model.load_state_dict(torch.load('./results/epoch500-SAGE1-76.654.pt'))\n",
    "    \n",
    "    predict_model.eval()\n",
    "    if y_pred == None:\n",
    "        out = predict_model(data.x,data.adj_t)\n",
    "        y_pred = out.exp()\n",
    "    \n",
    "    return y_pred[node_id]"
   ]
  },
  {
   "cell_type": "code",
   "execution_count": 51,
   "metadata": {},
   "outputs": [],
   "source": [
    "predict_model = SAGE(in_channels = data.x.size(-1), out_channels = nlabels, **model_para).to(device)"
   ]
  },
  {
   "cell_type": "code",
   "execution_count": 53,
   "metadata": {},
   "outputs": [
    {
     "data": {
      "text/plain": [
       "tensor([[0.9891, 0.0109],\n",
       "        [0.9778, 0.0222],\n",
       "        [0.9983, 0.0017],\n",
       "        ...,\n",
       "        [0.9806, 0.0194],\n",
       "        [0.9871, 0.0129],\n",
       "        [0.9979, 0.0021]], grad_fn=<ExpBackward0>)"
      ]
     },
     "execution_count": 53,
     "metadata": {},
     "output_type": "execute_result"
    }
   ],
   "source": [
    "out = predict_model(data.x,data.adj_t)\n",
    "y_pred = out.exp()\n",
    "y_pred"
   ]
  },
  {
   "cell_type": "code",
   "execution_count": 8,
   "metadata": {},
   "outputs": [
    {
     "data": {
      "text/plain": [
       "<All keys matched successfully>"
      ]
     },
     "execution_count": 8,
     "metadata": {},
     "output_type": "execute_result"
    }
   ],
   "source": [
    "predict_model = SAGE(in_channels = 20, out_channels = nlabels, **sage_parameters)\n",
    "predict_model.load_state_dict(torch.load('./results/epoch300-SAGE0.pt'))"
   ]
  },
  {
   "cell_type": "code",
   "execution_count": 9,
   "metadata": {},
   "outputs": [],
   "source": [
    "torch.save(predict_model.state_dict(),'./results'+'old-SAGE.pt',_use_new_zipfile_serialization=False)"
   ]
  },
  {
   "cell_type": "code",
   "execution_count": 10,
   "metadata": {},
   "outputs": [
    {
     "ename": "NameError",
     "evalue": "name 'data' is not defined",
     "output_type": "error",
     "traceback": [
      "\u001b[1;31m---------------------------------------------------------------------------\u001b[0m",
      "\u001b[1;31mNameError\u001b[0m                                 Traceback (most recent call last)",
      "\u001b[1;32md:\\MasterDegree\\course\\人工智能\\work2\\SAGE.ipynb Cell 24\u001b[0m in \u001b[0;36m<cell line: 1>\u001b[1;34m()\u001b[0m\n\u001b[1;32m----> <a href='vscode-notebook-cell:/d%3A/MasterDegree/course/%E4%BA%BA%E5%B7%A5%E6%99%BA%E8%83%BD/work2/SAGE.ipynb#X35sZmlsZQ%3D%3D?line=0'>1</a>\u001b[0m predict_model(data\u001b[39m.\u001b[39mx[\u001b[39m1\u001b[39m],data\u001b[39m.\u001b[39madj_t[\u001b[39m1\u001b[39m])\n",
      "\u001b[1;31mNameError\u001b[0m: name 'data' is not defined"
     ]
    }
   ],
   "source": []
  },
  {
   "cell_type": "code",
   "execution_count": 54,
   "metadata": {},
   "outputs": [
    {
     "data": {
      "text/plain": [
       "tensor([[0.9926, 0.0074],\n",
       "        [0.9804, 0.0196],\n",
       "        [0.9957, 0.0043],\n",
       "        ...,\n",
       "        [0.9734, 0.0266],\n",
       "        [0.9779, 0.0221],\n",
       "        [0.9978, 0.0022]])"
      ]
     },
     "execution_count": 54,
     "metadata": {},
     "output_type": "execute_result"
    }
   ],
   "source": [
    "best_out"
   ]
  },
  {
   "cell_type": "code",
   "execution_count": 55,
   "metadata": {},
   "outputs": [
    {
     "data": {
      "text/plain": [
       "100000000.0"
      ]
     },
     "execution_count": 55,
     "metadata": {},
     "output_type": "execute_result"
    }
   ],
   "source": []
  },
  {
   "cell_type": "code",
   "execution_count": 14,
   "metadata": {},
   "outputs": [
    {
     "data": {
      "text/plain": [
       "tensor([0.9951, 0.0049], grad_fn=<SelectBackward0>)"
      ]
     },
     "execution_count": 14,
     "metadata": {},
     "output_type": "execute_result"
    }
   ],
   "source": [
    "predict(data=data,node_id=4)"
   ]
  },
  {
   "cell_type": "code",
   "execution_count": 19,
   "metadata": {},
   "outputs": [],
   "source": [
    "torch.save(y_pred,'./results/SAGEpredTensor.pt',_use_new_zipfile_serialization=False)"
   ]
  },
  {
   "cell_type": "code",
   "execution_count": null,
   "metadata": {},
   "outputs": [],
   "source": []
  }
 ],
 "metadata": {
  "kernelspec": {
   "display_name": "Python 3.9.13 ('pytorch-cuda115')",
   "language": "python",
   "name": "python3"
  },
  "language_info": {
   "codemirror_mode": {
    "name": "ipython",
    "version": 3
   },
   "file_extension": ".py",
   "mimetype": "text/x-python",
   "name": "python",
   "nbconvert_exporter": "python",
   "pygments_lexer": "ipython3",
   "version": "3.9.13"
  },
  "orig_nbformat": 4,
  "vscode": {
   "interpreter": {
    "hash": "2474686dee597e0645b63f925a6dfee25e0cbae1b085132c8ee12cc9231f3570"
   }
  }
 },
 "nbformat": 4,
 "nbformat_minor": 2
}
